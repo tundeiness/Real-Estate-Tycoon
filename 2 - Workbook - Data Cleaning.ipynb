{
 "cells": [
  {
   "cell_type": "markdown",
   "metadata": {},
   "source": [
    "#### COMPANION WORKBOOK\n",
    "\n",
    "# Data Cleaning\n",
    "\n",
    "To make the most out of this program, we strongly recommend you to:\n",
    "1. First practice writing and implementing all of the code from Coding Section of the online module.\n",
    "2. Then, freely experiment with and explore any interesting or confusing concepts. Simply insert new code cells and then use the help of Google and official documentation.\n",
    "3. Finally, tackle all of the exercises at the end. They will help you tie everything together and **learn in context.**\n",
    "\n",
    "#### <span style=\"color:#555\">MODULE CODE SANDBOX</span>\n",
    "\n",
    "Use this space to practice writing and implementing all of the code from Coding Section of the online module. Insert new code cells as needed, and feel free to write notes to yourself in Markdown."
   ]
  },
  {
   "cell_type": "markdown",
   "metadata": {},
   "source": [
    "## I. Drop Unwanted Observations"
   ]
  },
  {
   "cell_type": "code",
   "execution_count": 1,
   "metadata": {},
   "outputs": [],
   "source": [
    "# import required libraries\n",
    "import numpy as np\n",
    "import pandas as pd\n",
    "pd.set_option('display.max_columns', 75)\n",
    "\n",
    "from matplotlib import pyplot as plt\n",
    "%matplotlib inline\n",
    "\n",
    "import seaborn as sns\n",
    "sns.set_style('darkgrid')"
   ]
  },
  {
   "cell_type": "code",
   "execution_count": 2,
   "metadata": {},
   "outputs": [
    {
     "data": {
      "text/html": [
       "<div>\n",
       "<style scoped>\n",
       "    .dataframe tbody tr th:only-of-type {\n",
       "        vertical-align: middle;\n",
       "    }\n",
       "\n",
       "    .dataframe tbody tr th {\n",
       "        vertical-align: top;\n",
       "    }\n",
       "\n",
       "    .dataframe thead th {\n",
       "        text-align: right;\n",
       "    }\n",
       "</style>\n",
       "<table border=\"1\" class=\"dataframe\">\n",
       "  <thead>\n",
       "    <tr style=\"text-align: right;\">\n",
       "      <th></th>\n",
       "      <th>tx_price</th>\n",
       "      <th>beds</th>\n",
       "      <th>baths</th>\n",
       "      <th>sqft</th>\n",
       "      <th>year_built</th>\n",
       "      <th>lot_size</th>\n",
       "      <th>property_type</th>\n",
       "      <th>exterior_walls</th>\n",
       "      <th>roof</th>\n",
       "      <th>basement</th>\n",
       "      <th>restaurants</th>\n",
       "      <th>groceries</th>\n",
       "      <th>nightlife</th>\n",
       "      <th>cafes</th>\n",
       "      <th>shopping</th>\n",
       "      <th>arts_entertainment</th>\n",
       "      <th>beauty_spas</th>\n",
       "      <th>active_life</th>\n",
       "      <th>median_age</th>\n",
       "      <th>married</th>\n",
       "      <th>college_grad</th>\n",
       "      <th>property_tax</th>\n",
       "      <th>insurance</th>\n",
       "      <th>median_school</th>\n",
       "      <th>num_schools</th>\n",
       "      <th>tx_year</th>\n",
       "    </tr>\n",
       "  </thead>\n",
       "  <tbody>\n",
       "    <tr>\n",
       "      <th>0</th>\n",
       "      <td>295850</td>\n",
       "      <td>1</td>\n",
       "      <td>1</td>\n",
       "      <td>584</td>\n",
       "      <td>2013</td>\n",
       "      <td>0</td>\n",
       "      <td>Apartment / Condo / Townhouse</td>\n",
       "      <td>Wood Siding</td>\n",
       "      <td>NaN</td>\n",
       "      <td>NaN</td>\n",
       "      <td>107</td>\n",
       "      <td>9</td>\n",
       "      <td>30</td>\n",
       "      <td>19</td>\n",
       "      <td>89</td>\n",
       "      <td>6</td>\n",
       "      <td>47</td>\n",
       "      <td>58</td>\n",
       "      <td>33.0</td>\n",
       "      <td>65.0</td>\n",
       "      <td>84.0</td>\n",
       "      <td>234.0</td>\n",
       "      <td>81.0</td>\n",
       "      <td>9.0</td>\n",
       "      <td>3.0</td>\n",
       "      <td>2013</td>\n",
       "    </tr>\n",
       "    <tr>\n",
       "      <th>1</th>\n",
       "      <td>216500</td>\n",
       "      <td>1</td>\n",
       "      <td>1</td>\n",
       "      <td>612</td>\n",
       "      <td>1965</td>\n",
       "      <td>0</td>\n",
       "      <td>Apartment / Condo / Townhouse</td>\n",
       "      <td>Brick</td>\n",
       "      <td>Composition Shingle</td>\n",
       "      <td>1.0</td>\n",
       "      <td>105</td>\n",
       "      <td>15</td>\n",
       "      <td>6</td>\n",
       "      <td>13</td>\n",
       "      <td>87</td>\n",
       "      <td>2</td>\n",
       "      <td>26</td>\n",
       "      <td>14</td>\n",
       "      <td>39.0</td>\n",
       "      <td>73.0</td>\n",
       "      <td>69.0</td>\n",
       "      <td>169.0</td>\n",
       "      <td>51.0</td>\n",
       "      <td>3.0</td>\n",
       "      <td>3.0</td>\n",
       "      <td>2006</td>\n",
       "    </tr>\n",
       "    <tr>\n",
       "      <th>2</th>\n",
       "      <td>279900</td>\n",
       "      <td>1</td>\n",
       "      <td>1</td>\n",
       "      <td>615</td>\n",
       "      <td>1963</td>\n",
       "      <td>0</td>\n",
       "      <td>Apartment / Condo / Townhouse</td>\n",
       "      <td>Wood Siding</td>\n",
       "      <td>NaN</td>\n",
       "      <td>NaN</td>\n",
       "      <td>183</td>\n",
       "      <td>13</td>\n",
       "      <td>31</td>\n",
       "      <td>30</td>\n",
       "      <td>101</td>\n",
       "      <td>10</td>\n",
       "      <td>74</td>\n",
       "      <td>62</td>\n",
       "      <td>28.0</td>\n",
       "      <td>15.0</td>\n",
       "      <td>86.0</td>\n",
       "      <td>216.0</td>\n",
       "      <td>74.0</td>\n",
       "      <td>8.0</td>\n",
       "      <td>3.0</td>\n",
       "      <td>2012</td>\n",
       "    </tr>\n",
       "    <tr>\n",
       "      <th>3</th>\n",
       "      <td>379900</td>\n",
       "      <td>1</td>\n",
       "      <td>1</td>\n",
       "      <td>618</td>\n",
       "      <td>2000</td>\n",
       "      <td>33541</td>\n",
       "      <td>Apartment / Condo / Townhouse</td>\n",
       "      <td>Wood Siding</td>\n",
       "      <td>NaN</td>\n",
       "      <td>NaN</td>\n",
       "      <td>198</td>\n",
       "      <td>9</td>\n",
       "      <td>38</td>\n",
       "      <td>25</td>\n",
       "      <td>127</td>\n",
       "      <td>11</td>\n",
       "      <td>72</td>\n",
       "      <td>83</td>\n",
       "      <td>36.0</td>\n",
       "      <td>25.0</td>\n",
       "      <td>91.0</td>\n",
       "      <td>265.0</td>\n",
       "      <td>92.0</td>\n",
       "      <td>9.0</td>\n",
       "      <td>3.0</td>\n",
       "      <td>2005</td>\n",
       "    </tr>\n",
       "    <tr>\n",
       "      <th>4</th>\n",
       "      <td>340000</td>\n",
       "      <td>1</td>\n",
       "      <td>1</td>\n",
       "      <td>634</td>\n",
       "      <td>1992</td>\n",
       "      <td>0</td>\n",
       "      <td>Apartment / Condo / Townhouse</td>\n",
       "      <td>Brick</td>\n",
       "      <td>NaN</td>\n",
       "      <td>NaN</td>\n",
       "      <td>149</td>\n",
       "      <td>7</td>\n",
       "      <td>22</td>\n",
       "      <td>20</td>\n",
       "      <td>83</td>\n",
       "      <td>10</td>\n",
       "      <td>50</td>\n",
       "      <td>73</td>\n",
       "      <td>37.0</td>\n",
       "      <td>20.0</td>\n",
       "      <td>75.0</td>\n",
       "      <td>88.0</td>\n",
       "      <td>30.0</td>\n",
       "      <td>9.0</td>\n",
       "      <td>3.0</td>\n",
       "      <td>2002</td>\n",
       "    </tr>\n",
       "  </tbody>\n",
       "</table>\n",
       "</div>"
      ],
      "text/plain": [
       "   tx_price  beds  baths  sqft  year_built  lot_size  \\\n",
       "0    295850     1      1   584        2013         0   \n",
       "1    216500     1      1   612        1965         0   \n",
       "2    279900     1      1   615        1963         0   \n",
       "3    379900     1      1   618        2000     33541   \n",
       "4    340000     1      1   634        1992         0   \n",
       "\n",
       "                   property_type exterior_walls                 roof  \\\n",
       "0  Apartment / Condo / Townhouse    Wood Siding                  NaN   \n",
       "1  Apartment / Condo / Townhouse          Brick  Composition Shingle   \n",
       "2  Apartment / Condo / Townhouse    Wood Siding                  NaN   \n",
       "3  Apartment / Condo / Townhouse    Wood Siding                  NaN   \n",
       "4  Apartment / Condo / Townhouse          Brick                  NaN   \n",
       "\n",
       "   basement  restaurants  groceries  nightlife  cafes  shopping  \\\n",
       "0       NaN          107          9         30     19        89   \n",
       "1       1.0          105         15          6     13        87   \n",
       "2       NaN          183         13         31     30       101   \n",
       "3       NaN          198          9         38     25       127   \n",
       "4       NaN          149          7         22     20        83   \n",
       "\n",
       "   arts_entertainment  beauty_spas  active_life  median_age  married  \\\n",
       "0                   6           47           58        33.0     65.0   \n",
       "1                   2           26           14        39.0     73.0   \n",
       "2                  10           74           62        28.0     15.0   \n",
       "3                  11           72           83        36.0     25.0   \n",
       "4                  10           50           73        37.0     20.0   \n",
       "\n",
       "   college_grad  property_tax  insurance  median_school  num_schools  tx_year  \n",
       "0          84.0         234.0       81.0            9.0          3.0     2013  \n",
       "1          69.0         169.0       51.0            3.0          3.0     2006  \n",
       "2          86.0         216.0       74.0            8.0          3.0     2012  \n",
       "3          91.0         265.0       92.0            9.0          3.0     2005  \n",
       "4          75.0          88.0       30.0            9.0          3.0     2002  "
      ]
     },
     "execution_count": 2,
     "metadata": {},
     "output_type": "execute_result"
    }
   ],
   "source": [
    "dfs = pd.read_csv('real_estate_data.csv')\n",
    "dfs.head()"
   ]
  },
  {
   "cell_type": "code",
   "execution_count": 3,
   "metadata": {},
   "outputs": [
    {
     "data": {
      "text/plain": [
       "(1883, 26)"
      ]
     },
     "execution_count": 3,
     "metadata": {},
     "output_type": "execute_result"
    }
   ],
   "source": [
    "# check shape\n",
    "dfs.shape"
   ]
  },
  {
   "cell_type": "code",
   "execution_count": 5,
   "metadata": {},
   "outputs": [
    {
     "name": "stdout",
     "output_type": "stream",
     "text": [
      "(1883, 26)\n"
     ]
    }
   ],
   "source": [
    "# drop duplicates\n",
    "dfs.drop_duplicates()\n",
    "print(dfs.shape)"
   ]
  },
  {
   "cell_type": "markdown",
   "metadata": {},
   "source": [
    "## II. Fix Structural Errors"
   ]
  },
  {
   "cell_type": "code",
   "execution_count": 6,
   "metadata": {},
   "outputs": [
    {
     "data": {
      "text/plain": [
       "array([nan,  1.])"
      ]
     },
     "execution_count": 6,
     "metadata": {},
     "output_type": "execute_result"
    }
   ],
   "source": [
    "# basement feature seems to have a funny dataset, let's check them\n",
    "\n",
    "dfs['basement'].unique()"
   ]
  },
  {
   "cell_type": "code",
   "execution_count": 8,
   "metadata": {},
   "outputs": [],
   "source": [
    "# fill NaN values in basement features\n",
    "\n",
    "dfs['basement'].fillna(0, inplace=True)"
   ]
  },
  {
   "cell_type": "code",
   "execution_count": 9,
   "metadata": {},
   "outputs": [
    {
     "data": {
      "text/html": [
       "<div>\n",
       "<style scoped>\n",
       "    .dataframe tbody tr th:only-of-type {\n",
       "        vertical-align: middle;\n",
       "    }\n",
       "\n",
       "    .dataframe tbody tr th {\n",
       "        vertical-align: top;\n",
       "    }\n",
       "\n",
       "    .dataframe thead th {\n",
       "        text-align: right;\n",
       "    }\n",
       "</style>\n",
       "<table border=\"1\" class=\"dataframe\">\n",
       "  <thead>\n",
       "    <tr style=\"text-align: right;\">\n",
       "      <th></th>\n",
       "      <th>tx_price</th>\n",
       "      <th>beds</th>\n",
       "      <th>baths</th>\n",
       "      <th>sqft</th>\n",
       "      <th>year_built</th>\n",
       "      <th>lot_size</th>\n",
       "      <th>property_type</th>\n",
       "      <th>exterior_walls</th>\n",
       "      <th>roof</th>\n",
       "      <th>basement</th>\n",
       "      <th>restaurants</th>\n",
       "      <th>groceries</th>\n",
       "      <th>nightlife</th>\n",
       "      <th>cafes</th>\n",
       "      <th>shopping</th>\n",
       "      <th>arts_entertainment</th>\n",
       "      <th>beauty_spas</th>\n",
       "      <th>active_life</th>\n",
       "      <th>median_age</th>\n",
       "      <th>married</th>\n",
       "      <th>college_grad</th>\n",
       "      <th>property_tax</th>\n",
       "      <th>insurance</th>\n",
       "      <th>median_school</th>\n",
       "      <th>num_schools</th>\n",
       "      <th>tx_year</th>\n",
       "    </tr>\n",
       "  </thead>\n",
       "  <tbody>\n",
       "    <tr>\n",
       "      <th>0</th>\n",
       "      <td>295850</td>\n",
       "      <td>1</td>\n",
       "      <td>1</td>\n",
       "      <td>584</td>\n",
       "      <td>2013</td>\n",
       "      <td>0</td>\n",
       "      <td>Apartment / Condo / Townhouse</td>\n",
       "      <td>Wood Siding</td>\n",
       "      <td>NaN</td>\n",
       "      <td>0.0</td>\n",
       "      <td>107</td>\n",
       "      <td>9</td>\n",
       "      <td>30</td>\n",
       "      <td>19</td>\n",
       "      <td>89</td>\n",
       "      <td>6</td>\n",
       "      <td>47</td>\n",
       "      <td>58</td>\n",
       "      <td>33.0</td>\n",
       "      <td>65.0</td>\n",
       "      <td>84.0</td>\n",
       "      <td>234.0</td>\n",
       "      <td>81.0</td>\n",
       "      <td>9.0</td>\n",
       "      <td>3.0</td>\n",
       "      <td>2013</td>\n",
       "    </tr>\n",
       "    <tr>\n",
       "      <th>1</th>\n",
       "      <td>216500</td>\n",
       "      <td>1</td>\n",
       "      <td>1</td>\n",
       "      <td>612</td>\n",
       "      <td>1965</td>\n",
       "      <td>0</td>\n",
       "      <td>Apartment / Condo / Townhouse</td>\n",
       "      <td>Brick</td>\n",
       "      <td>Composition Shingle</td>\n",
       "      <td>1.0</td>\n",
       "      <td>105</td>\n",
       "      <td>15</td>\n",
       "      <td>6</td>\n",
       "      <td>13</td>\n",
       "      <td>87</td>\n",
       "      <td>2</td>\n",
       "      <td>26</td>\n",
       "      <td>14</td>\n",
       "      <td>39.0</td>\n",
       "      <td>73.0</td>\n",
       "      <td>69.0</td>\n",
       "      <td>169.0</td>\n",
       "      <td>51.0</td>\n",
       "      <td>3.0</td>\n",
       "      <td>3.0</td>\n",
       "      <td>2006</td>\n",
       "    </tr>\n",
       "    <tr>\n",
       "      <th>2</th>\n",
       "      <td>279900</td>\n",
       "      <td>1</td>\n",
       "      <td>1</td>\n",
       "      <td>615</td>\n",
       "      <td>1963</td>\n",
       "      <td>0</td>\n",
       "      <td>Apartment / Condo / Townhouse</td>\n",
       "      <td>Wood Siding</td>\n",
       "      <td>NaN</td>\n",
       "      <td>0.0</td>\n",
       "      <td>183</td>\n",
       "      <td>13</td>\n",
       "      <td>31</td>\n",
       "      <td>30</td>\n",
       "      <td>101</td>\n",
       "      <td>10</td>\n",
       "      <td>74</td>\n",
       "      <td>62</td>\n",
       "      <td>28.0</td>\n",
       "      <td>15.0</td>\n",
       "      <td>86.0</td>\n",
       "      <td>216.0</td>\n",
       "      <td>74.0</td>\n",
       "      <td>8.0</td>\n",
       "      <td>3.0</td>\n",
       "      <td>2012</td>\n",
       "    </tr>\n",
       "    <tr>\n",
       "      <th>3</th>\n",
       "      <td>379900</td>\n",
       "      <td>1</td>\n",
       "      <td>1</td>\n",
       "      <td>618</td>\n",
       "      <td>2000</td>\n",
       "      <td>33541</td>\n",
       "      <td>Apartment / Condo / Townhouse</td>\n",
       "      <td>Wood Siding</td>\n",
       "      <td>NaN</td>\n",
       "      <td>0.0</td>\n",
       "      <td>198</td>\n",
       "      <td>9</td>\n",
       "      <td>38</td>\n",
       "      <td>25</td>\n",
       "      <td>127</td>\n",
       "      <td>11</td>\n",
       "      <td>72</td>\n",
       "      <td>83</td>\n",
       "      <td>36.0</td>\n",
       "      <td>25.0</td>\n",
       "      <td>91.0</td>\n",
       "      <td>265.0</td>\n",
       "      <td>92.0</td>\n",
       "      <td>9.0</td>\n",
       "      <td>3.0</td>\n",
       "      <td>2005</td>\n",
       "    </tr>\n",
       "    <tr>\n",
       "      <th>4</th>\n",
       "      <td>340000</td>\n",
       "      <td>1</td>\n",
       "      <td>1</td>\n",
       "      <td>634</td>\n",
       "      <td>1992</td>\n",
       "      <td>0</td>\n",
       "      <td>Apartment / Condo / Townhouse</td>\n",
       "      <td>Brick</td>\n",
       "      <td>NaN</td>\n",
       "      <td>0.0</td>\n",
       "      <td>149</td>\n",
       "      <td>7</td>\n",
       "      <td>22</td>\n",
       "      <td>20</td>\n",
       "      <td>83</td>\n",
       "      <td>10</td>\n",
       "      <td>50</td>\n",
       "      <td>73</td>\n",
       "      <td>37.0</td>\n",
       "      <td>20.0</td>\n",
       "      <td>75.0</td>\n",
       "      <td>88.0</td>\n",
       "      <td>30.0</td>\n",
       "      <td>9.0</td>\n",
       "      <td>3.0</td>\n",
       "      <td>2002</td>\n",
       "    </tr>\n",
       "  </tbody>\n",
       "</table>\n",
       "</div>"
      ],
      "text/plain": [
       "   tx_price  beds  baths  sqft  year_built  lot_size  \\\n",
       "0    295850     1      1   584        2013         0   \n",
       "1    216500     1      1   612        1965         0   \n",
       "2    279900     1      1   615        1963         0   \n",
       "3    379900     1      1   618        2000     33541   \n",
       "4    340000     1      1   634        1992         0   \n",
       "\n",
       "                   property_type exterior_walls                 roof  \\\n",
       "0  Apartment / Condo / Townhouse    Wood Siding                  NaN   \n",
       "1  Apartment / Condo / Townhouse          Brick  Composition Shingle   \n",
       "2  Apartment / Condo / Townhouse    Wood Siding                  NaN   \n",
       "3  Apartment / Condo / Townhouse    Wood Siding                  NaN   \n",
       "4  Apartment / Condo / Townhouse          Brick                  NaN   \n",
       "\n",
       "   basement  restaurants  groceries  nightlife  cafes  shopping  \\\n",
       "0       0.0          107          9         30     19        89   \n",
       "1       1.0          105         15          6     13        87   \n",
       "2       0.0          183         13         31     30       101   \n",
       "3       0.0          198          9         38     25       127   \n",
       "4       0.0          149          7         22     20        83   \n",
       "\n",
       "   arts_entertainment  beauty_spas  active_life  median_age  married  \\\n",
       "0                   6           47           58        33.0     65.0   \n",
       "1                   2           26           14        39.0     73.0   \n",
       "2                  10           74           62        28.0     15.0   \n",
       "3                  11           72           83        36.0     25.0   \n",
       "4                  10           50           73        37.0     20.0   \n",
       "\n",
       "   college_grad  property_tax  insurance  median_school  num_schools  tx_year  \n",
       "0          84.0         234.0       81.0            9.0          3.0     2013  \n",
       "1          69.0         169.0       51.0            3.0          3.0     2006  \n",
       "2          86.0         216.0       74.0            8.0          3.0     2012  \n",
       "3          91.0         265.0       92.0            9.0          3.0     2005  \n",
       "4          75.0          88.0       30.0            9.0          3.0     2002  "
      ]
     },
     "execution_count": 9,
     "metadata": {},
     "output_type": "execute_result"
    }
   ],
   "source": [
    "# check dataframe again\n",
    "dfs.head()"
   ]
  },
  {
   "cell_type": "code",
   "execution_count": 10,
   "metadata": {},
   "outputs": [
    {
     "name": "stdout",
     "output_type": "stream",
     "text": [
      "[0. 1.]\n"
     ]
    }
   ],
   "source": [
    "# let's reprint unique basement values\n",
    "print(dfs['basement'].unique())"
   ]
  },
  {
   "cell_type": "code",
   "execution_count": 11,
   "metadata": {},
   "outputs": [
    {
     "data": {
      "image/png": "[encoded data removed]",
      "text/plain": [
       "<Figure size 432x288 with 1 Axes>"
      ]
     },
     "metadata": {},
     "output_type": "display_data"
    }
   ],
   "source": [
    "sns.countplot(y='roof', data=dfs)\n",
    "plt.show()"
   ]
  },
  {
   "cell_type": "code",
   "execution_count": 12,
   "metadata": {},
   "outputs": [],
   "source": [
    "# replace spelling typos\n",
    "dfs['roof'].replace('composition', 'Composition', inplace=True)\n",
    "\n",
    "dfs['roof'].replace('asphalt', 'Asphalt', inplace=True)\n",
    "\n",
    "dfs['roof'].replace(['shake-shingle', 'asphalt,shake-shingle'], 'Shake Shingle', inplace=True)"
   ]
  },
  {
   "cell_type": "code",
   "execution_count": 13,
   "metadata": {
    "scrolled": true
   },
   "outputs": [
    {
     "data": {
      "text/html": [
       "<div>\n",
       "<style scoped>\n",
       "    .dataframe tbody tr th:only-of-type {\n",
       "        vertical-align: middle;\n",
       "    }\n",
       "\n",
       "    .dataframe tbody tr th {\n",
       "        vertical-align: top;\n",
       "    }\n",
       "\n",
       "    .dataframe thead th {\n",
       "        text-align: right;\n",
       "    }\n",
       "</style>\n",
       "<table border=\"1\" class=\"dataframe\">\n",
       "  <thead>\n",
       "    <tr style=\"text-align: right;\">\n",
       "      <th></th>\n",
       "      <th>tx_price</th>\n",
       "      <th>beds</th>\n",
       "      <th>baths</th>\n",
       "      <th>sqft</th>\n",
       "      <th>year_built</th>\n",
       "      <th>lot_size</th>\n",
       "      <th>property_type</th>\n",
       "      <th>exterior_walls</th>\n",
       "      <th>roof</th>\n",
       "      <th>basement</th>\n",
       "      <th>restaurants</th>\n",
       "      <th>groceries</th>\n",
       "      <th>nightlife</th>\n",
       "      <th>cafes</th>\n",
       "      <th>shopping</th>\n",
       "      <th>arts_entertainment</th>\n",
       "      <th>beauty_spas</th>\n",
       "      <th>active_life</th>\n",
       "      <th>median_age</th>\n",
       "      <th>married</th>\n",
       "      <th>college_grad</th>\n",
       "      <th>property_tax</th>\n",
       "      <th>insurance</th>\n",
       "      <th>median_school</th>\n",
       "      <th>num_schools</th>\n",
       "      <th>tx_year</th>\n",
       "    </tr>\n",
       "  </thead>\n",
       "  <tbody>\n",
       "    <tr>\n",
       "      <th>0</th>\n",
       "      <td>295850</td>\n",
       "      <td>1</td>\n",
       "      <td>1</td>\n",
       "      <td>584</td>\n",
       "      <td>2013</td>\n",
       "      <td>0</td>\n",
       "      <td>Apartment / Condo / Townhouse</td>\n",
       "      <td>Wood Siding</td>\n",
       "      <td>NaN</td>\n",
       "      <td>0.0</td>\n",
       "      <td>107</td>\n",
       "      <td>9</td>\n",
       "      <td>30</td>\n",
       "      <td>19</td>\n",
       "      <td>89</td>\n",
       "      <td>6</td>\n",
       "      <td>47</td>\n",
       "      <td>58</td>\n",
       "      <td>33.0</td>\n",
       "      <td>65.0</td>\n",
       "      <td>84.0</td>\n",
       "      <td>234.0</td>\n",
       "      <td>81.0</td>\n",
       "      <td>9.0</td>\n",
       "      <td>3.0</td>\n",
       "      <td>2013</td>\n",
       "    </tr>\n",
       "    <tr>\n",
       "      <th>1</th>\n",
       "      <td>216500</td>\n",
       "      <td>1</td>\n",
       "      <td>1</td>\n",
       "      <td>612</td>\n",
       "      <td>1965</td>\n",
       "      <td>0</td>\n",
       "      <td>Apartment / Condo / Townhouse</td>\n",
       "      <td>Brick</td>\n",
       "      <td>Composition Shingle</td>\n",
       "      <td>1.0</td>\n",
       "      <td>105</td>\n",
       "      <td>15</td>\n",
       "      <td>6</td>\n",
       "      <td>13</td>\n",
       "      <td>87</td>\n",
       "      <td>2</td>\n",
       "      <td>26</td>\n",
       "      <td>14</td>\n",
       "      <td>39.0</td>\n",
       "      <td>73.0</td>\n",
       "      <td>69.0</td>\n",
       "      <td>169.0</td>\n",
       "      <td>51.0</td>\n",
       "      <td>3.0</td>\n",
       "      <td>3.0</td>\n",
       "      <td>2006</td>\n",
       "    </tr>\n",
       "    <tr>\n",
       "      <th>2</th>\n",
       "      <td>279900</td>\n",
       "      <td>1</td>\n",
       "      <td>1</td>\n",
       "      <td>615</td>\n",
       "      <td>1963</td>\n",
       "      <td>0</td>\n",
       "      <td>Apartment / Condo / Townhouse</td>\n",
       "      <td>Wood Siding</td>\n",
       "      <td>NaN</td>\n",
       "      <td>0.0</td>\n",
       "      <td>183</td>\n",
       "      <td>13</td>\n",
       "      <td>31</td>\n",
       "      <td>30</td>\n",
       "      <td>101</td>\n",
       "      <td>10</td>\n",
       "      <td>74</td>\n",
       "      <td>62</td>\n",
       "      <td>28.0</td>\n",
       "      <td>15.0</td>\n",
       "      <td>86.0</td>\n",
       "      <td>216.0</td>\n",
       "      <td>74.0</td>\n",
       "      <td>8.0</td>\n",
       "      <td>3.0</td>\n",
       "      <td>2012</td>\n",
       "    </tr>\n",
       "    <tr>\n",
       "      <th>3</th>\n",
       "      <td>379900</td>\n",
       "      <td>1</td>\n",
       "      <td>1</td>\n",
       "      <td>618</td>\n",
       "      <td>2000</td>\n",
       "      <td>33541</td>\n",
       "      <td>Apartment / Condo / Townhouse</td>\n",
       "      <td>Wood Siding</td>\n",
       "      <td>NaN</td>\n",
       "      <td>0.0</td>\n",
       "      <td>198</td>\n",
       "      <td>9</td>\n",
       "      <td>38</td>\n",
       "      <td>25</td>\n",
       "      <td>127</td>\n",
       "      <td>11</td>\n",
       "      <td>72</td>\n",
       "      <td>83</td>\n",
       "      <td>36.0</td>\n",
       "      <td>25.0</td>\n",
       "      <td>91.0</td>\n",
       "      <td>265.0</td>\n",
       "      <td>92.0</td>\n",
       "      <td>9.0</td>\n",
       "      <td>3.0</td>\n",
       "      <td>2005</td>\n",
       "    </tr>\n",
       "    <tr>\n",
       "      <th>4</th>\n",
       "      <td>340000</td>\n",
       "      <td>1</td>\n",
       "      <td>1</td>\n",
       "      <td>634</td>\n",
       "      <td>1992</td>\n",
       "      <td>0</td>\n",
       "      <td>Apartment / Condo / Townhouse</td>\n",
       "      <td>Brick</td>\n",
       "      <td>NaN</td>\n",
       "      <td>0.0</td>\n",
       "      <td>149</td>\n",
       "      <td>7</td>\n",
       "      <td>22</td>\n",
       "      <td>20</td>\n",
       "      <td>83</td>\n",
       "      <td>10</td>\n",
       "      <td>50</td>\n",
       "      <td>73</td>\n",
       "      <td>37.0</td>\n",
       "      <td>20.0</td>\n",
       "      <td>75.0</td>\n",
       "      <td>88.0</td>\n",
       "      <td>30.0</td>\n",
       "      <td>9.0</td>\n",
       "      <td>3.0</td>\n",
       "      <td>2002</td>\n",
       "    </tr>\n",
       "    <tr>\n",
       "      <th>5</th>\n",
       "      <td>265000</td>\n",
       "      <td>1</td>\n",
       "      <td>1</td>\n",
       "      <td>641</td>\n",
       "      <td>1947</td>\n",
       "      <td>0</td>\n",
       "      <td>Apartment / Condo / Townhouse</td>\n",
       "      <td>Brick</td>\n",
       "      <td>NaN</td>\n",
       "      <td>0.0</td>\n",
       "      <td>146</td>\n",
       "      <td>10</td>\n",
       "      <td>23</td>\n",
       "      <td>27</td>\n",
       "      <td>86</td>\n",
       "      <td>9</td>\n",
       "      <td>60</td>\n",
       "      <td>52</td>\n",
       "      <td>28.0</td>\n",
       "      <td>15.0</td>\n",
       "      <td>86.0</td>\n",
       "      <td>168.0</td>\n",
       "      <td>58.0</td>\n",
       "      <td>8.0</td>\n",
       "      <td>3.0</td>\n",
       "      <td>2004</td>\n",
       "    </tr>\n",
       "    <tr>\n",
       "      <th>6</th>\n",
       "      <td>240000</td>\n",
       "      <td>1</td>\n",
       "      <td>1</td>\n",
       "      <td>642</td>\n",
       "      <td>1944</td>\n",
       "      <td>0</td>\n",
       "      <td>Single-Family</td>\n",
       "      <td>Brick</td>\n",
       "      <td>NaN</td>\n",
       "      <td>0.0</td>\n",
       "      <td>159</td>\n",
       "      <td>13</td>\n",
       "      <td>36</td>\n",
       "      <td>17</td>\n",
       "      <td>92</td>\n",
       "      <td>12</td>\n",
       "      <td>66</td>\n",
       "      <td>50</td>\n",
       "      <td>28.0</td>\n",
       "      <td>36.0</td>\n",
       "      <td>88.0</td>\n",
       "      <td>176.0</td>\n",
       "      <td>61.0</td>\n",
       "      <td>7.0</td>\n",
       "      <td>3.0</td>\n",
       "      <td>2011</td>\n",
       "    </tr>\n",
       "    <tr>\n",
       "      <th>7</th>\n",
       "      <td>388100</td>\n",
       "      <td>1</td>\n",
       "      <td>1</td>\n",
       "      <td>650</td>\n",
       "      <td>2000</td>\n",
       "      <td>33541</td>\n",
       "      <td>Apartment / Condo / Townhouse</td>\n",
       "      <td>Wood Siding</td>\n",
       "      <td>NaN</td>\n",
       "      <td>0.0</td>\n",
       "      <td>198</td>\n",
       "      <td>9</td>\n",
       "      <td>38</td>\n",
       "      <td>25</td>\n",
       "      <td>127</td>\n",
       "      <td>11</td>\n",
       "      <td>72</td>\n",
       "      <td>83</td>\n",
       "      <td>36.0</td>\n",
       "      <td>25.0</td>\n",
       "      <td>91.0</td>\n",
       "      <td>266.0</td>\n",
       "      <td>92.0</td>\n",
       "      <td>9.0</td>\n",
       "      <td>3.0</td>\n",
       "      <td>2005</td>\n",
       "    </tr>\n",
       "    <tr>\n",
       "      <th>8</th>\n",
       "      <td>240000</td>\n",
       "      <td>1</td>\n",
       "      <td>1</td>\n",
       "      <td>660</td>\n",
       "      <td>1983</td>\n",
       "      <td>0</td>\n",
       "      <td>Apartment / Condo / Townhouse</td>\n",
       "      <td>Brick</td>\n",
       "      <td>NaN</td>\n",
       "      <td>0.0</td>\n",
       "      <td>51</td>\n",
       "      <td>8</td>\n",
       "      <td>6</td>\n",
       "      <td>2</td>\n",
       "      <td>40</td>\n",
       "      <td>18</td>\n",
       "      <td>32</td>\n",
       "      <td>41</td>\n",
       "      <td>36.0</td>\n",
       "      <td>49.0</td>\n",
       "      <td>77.0</td>\n",
       "      <td>188.0</td>\n",
       "      <td>65.0</td>\n",
       "      <td>6.0</td>\n",
       "      <td>3.0</td>\n",
       "      <td>2013</td>\n",
       "    </tr>\n",
       "    <tr>\n",
       "      <th>9</th>\n",
       "      <td>250000</td>\n",
       "      <td>1</td>\n",
       "      <td>1</td>\n",
       "      <td>664</td>\n",
       "      <td>1965</td>\n",
       "      <td>0</td>\n",
       "      <td>Apartment / Condo / Townhouse</td>\n",
       "      <td>Brick</td>\n",
       "      <td>NaN</td>\n",
       "      <td>0.0</td>\n",
       "      <td>119</td>\n",
       "      <td>10</td>\n",
       "      <td>26</td>\n",
       "      <td>25</td>\n",
       "      <td>183</td>\n",
       "      <td>13</td>\n",
       "      <td>70</td>\n",
       "      <td>36</td>\n",
       "      <td>57.0</td>\n",
       "      <td>13.0</td>\n",
       "      <td>83.0</td>\n",
       "      <td>147.0</td>\n",
       "      <td>51.0</td>\n",
       "      <td>6.0</td>\n",
       "      <td>3.0</td>\n",
       "      <td>2007</td>\n",
       "    </tr>\n",
       "  </tbody>\n",
       "</table>\n",
       "</div>"
      ],
      "text/plain": [
       "   tx_price  beds  baths  sqft  year_built  lot_size  \\\n",
       "0    295850     1      1   584        2013         0   \n",
       "1    216500     1      1   612        1965         0   \n",
       "2    279900     1      1   615        1963         0   \n",
       "3    379900     1      1   618        2000     33541   \n",
       "4    340000     1      1   634        1992         0   \n",
       "5    265000     1      1   641        1947         0   \n",
       "6    240000     1      1   642        1944         0   \n",
       "7    388100     1      1   650        2000     33541   \n",
       "8    240000     1      1   660        1983         0   \n",
       "9    250000     1      1   664        1965         0   \n",
       "\n",
       "                   property_type exterior_walls                 roof  \\\n",
       "0  Apartment / Condo / Townhouse    Wood Siding                  NaN   \n",
       "1  Apartment / Condo / Townhouse          Brick  Composition Shingle   \n",
       "2  Apartment / Condo / Townhouse    Wood Siding                  NaN   \n",
       "3  Apartment / Condo / Townhouse    Wood Siding                  NaN   \n",
       "4  Apartment / Condo / Townhouse          Brick                  NaN   \n",
       "5  Apartment / Condo / Townhouse          Brick                  NaN   \n",
       "6                  Single-Family          Brick                  NaN   \n",
       "7  Apartment / Condo / Townhouse    Wood Siding                  NaN   \n",
       "8  Apartment / Condo / Townhouse          Brick                  NaN   \n",
       "9  Apartment / Condo / Townhouse          Brick                  NaN   \n",
       "\n",
       "   basement  restaurants  groceries  nightlife  cafes  shopping  \\\n",
       "0       0.0          107          9         30     19        89   \n",
       "1       1.0          105         15          6     13        87   \n",
       "2       0.0          183         13         31     30       101   \n",
       "3       0.0          198          9         38     25       127   \n",
       "4       0.0          149          7         22     20        83   \n",
       "5       0.0          146         10         23     27        86   \n",
       "6       0.0          159         13         36     17        92   \n",
       "7       0.0          198          9         38     25       127   \n",
       "8       0.0           51          8          6      2        40   \n",
       "9       0.0          119         10         26     25       183   \n",
       "\n",
       "   arts_entertainment  beauty_spas  active_life  median_age  married  \\\n",
       "0                   6           47           58        33.0     65.0   \n",
       "1                   2           26           14        39.0     73.0   \n",
       "2                  10           74           62        28.0     15.0   \n",
       "3                  11           72           83        36.0     25.0   \n",
       "4                  10           50           73        37.0     20.0   \n",
       "5                   9           60           52        28.0     15.0   \n",
       "6                  12           66           50        28.0     36.0   \n",
       "7                  11           72           83        36.0     25.0   \n",
       "8                  18           32           41        36.0     49.0   \n",
       "9                  13           70           36        57.0     13.0   \n",
       "\n",
       "   college_grad  property_tax  insurance  median_school  num_schools  tx_year  \n",
       "0          84.0         234.0       81.0            9.0          3.0     2013  \n",
       "1          69.0         169.0       51.0            3.0          3.0     2006  \n",
       "2          86.0         216.0       74.0            8.0          3.0     2012  \n",
       "3          91.0         265.0       92.0            9.0          3.0     2005  \n",
       "4          75.0          88.0       30.0            9.0          3.0     2002  \n",
       "5          86.0         168.0       58.0            8.0          3.0     2004  \n",
       "6          88.0         176.0       61.0            7.0          3.0     2011  \n",
       "7          91.0         266.0       92.0            9.0          3.0     2005  \n",
       "8          77.0         188.0       65.0            6.0          3.0     2013  \n",
       "9          83.0         147.0       51.0            6.0          3.0     2007  "
      ]
     },
     "execution_count": 13,
     "metadata": {},
     "output_type": "execute_result"
    }
   ],
   "source": [
    "dfs.head(10)"
   ]
  },
  {
   "cell_type": "code",
   "execution_count": 15,
   "metadata": {},
   "outputs": [
    {
     "data": {
      "image/png": "[encoded data removed]",
      "text/plain": [
       "<Figure size 432x288 with 1 Axes>"
      ]
     },
     "metadata": {},
     "output_type": "display_data"
    }
   ],
   "source": [
    "# let's see our plot again\n",
    "sns.countplot(y='roof', data=dfs)\n",
    "plt.show()"
   ]
  },
  {
   "cell_type": "code",
   "execution_count": 16,
   "metadata": {},
   "outputs": [
    {
     "data": {
      "image/png": "[encoded data removed]",
      "text/plain": [
       "<Figure size 432x288 with 1 Axes>"
      ]
     },
     "metadata": {},
     "output_type": "display_data"
    }
   ],
   "source": [
    "# check for mislabeled classes\n",
    "sns.countplot(y='exterior_walls', data=dfs)\n",
    "plt.show()"
   ]
  },
  {
   "cell_type": "markdown",
   "metadata": {},
   "source": [
    "## III. Remove \"Guilty\" Outliers"
   ]
  },
  {
   "cell_type": "code",
   "execution_count": 17,
   "metadata": {},
   "outputs": [
    {
     "name": "stderr",
     "output_type": "stream",
     "text": [
      "/Users/tunde/opt/anaconda3/lib/python3.9/site-packages/seaborn/_decorators.py:36: FutureWarning: Pass the following variable as a keyword arg: x. From version 0.12, the only valid positional argument will be `data`, and passing other arguments without an explicit keyword will result in an error or misinterpretation.\n",
      "  warnings.warn(\n"
     ]
    },
    {
     "data": {
      "image/png": "[encoded data removed]",
      "text/plain": [
       "<Figure size 432x288 with 1 Axes>"
      ]
     },
     "metadata": {},
     "output_type": "display_data"
    }
   ],
   "source": [
    "# checking for outliers using boxplot\n",
    "\n",
    "sns.boxplot(dfs.tx_price)\n",
    "plt.show()"
   ]
  },
  {
   "cell_type": "code",
   "execution_count": 18,
   "metadata": {},
   "outputs": [
    {
     "name": "stderr",
     "output_type": "stream",
     "text": [
      "/Users/tunde/opt/anaconda3/lib/python3.9/site-packages/seaborn/_decorators.py:36: FutureWarning: Pass the following variable as a keyword arg: x. From version 0.12, the only valid positional argument will be `data`, and passing other arguments without an explicit keyword will result in an error or misinterpretation.\n",
      "  warnings.warn(\n"
     ]
    },
    {
     "data": {
      "image/png": "[encoded data removed]",
      "text/plain": [
       "<Figure size 432x288 with 1 Axes>"
      ]
     },
     "metadata": {},
     "output_type": "display_data"
    },
    {
     "name": "stderr",
     "output_type": "stream",
     "text": [
      "/Users/tunde/opt/anaconda3/lib/python3.9/site-packages/seaborn/_decorators.py:36: FutureWarning: Pass the following variable as a keyword arg: x. From version 0.12, the only valid positional argument will be `data`, and passing other arguments without an explicit keyword will result in an error or misinterpretation.\n",
      "  warnings.warn(\n"
     ]
    },
    {
     "data": {
      "image/png": "[encoded data removed]",
      "text/plain": [
       "<Figure size 432x288 with 1 Axes>"
      ]
     },
     "metadata": {},
     "output_type": "display_data"
    }
   ],
   "source": [
    "# checking for outliers using seanborn violin plot (Recommended ) and boxplot together\n",
    "\n",
    "sns.boxplot(dfs.tx_price)\n",
    "plt.xlim(0, 1000000) # making the x-axis consistent\n",
    "plt.show()\n",
    "\n",
    "\n",
    "sns.violinplot('tx_price', data=dfs)\n",
    "plt.xlim(0, 1000000)\n",
    "plt.show()"
   ]
  },
  {
   "cell_type": "markdown",
   "metadata": {},
   "source": [
    "## IV. Handle Missing Data"
   ]
  },
  {
   "cell_type": "code",
   "execution_count": 19,
   "metadata": {},
   "outputs": [
    {
     "data": {
      "text/plain": [
       "property_type       0\n",
       "exterior_walls    223\n",
       "roof              354\n",
       "dtype: int64"
      ]
     },
     "execution_count": 19,
     "metadata": {},
     "output_type": "execute_result"
    }
   ],
   "source": [
    "# Let's find and count the missing categorical feature\n",
    "# Display number of missing values by feature (categorical)\n",
    "\n",
    "# select a subset of our DataFrame of only our categorical features\n",
    "selected = dfs.select_dtypes(include=['object'])\n",
    "\n",
    "# Flag all the missing values\n",
    "check = selected.isnull()\n",
    "\n",
    "# take the sum by column\n",
    "check.sum()"
   ]
  },
  {
   "cell_type": "code",
   "execution_count": 20,
   "metadata": {},
   "outputs": [],
   "source": [
    "# fill exterior_walls missng values with missing\n",
    "\n",
    "dfs['exterior_walls'].fillna('Missing', inplace=True)\n"
   ]
  },
  {
   "cell_type": "code",
   "execution_count": 21,
   "metadata": {},
   "outputs": [
    {
     "data": {
      "text/plain": [
       "property_type       0\n",
       "exterior_walls      0\n",
       "roof              354\n",
       "dtype: int64"
      ]
     },
     "execution_count": 21,
     "metadata": {},
     "output_type": "execute_result"
    }
   ],
   "source": [
    "# let's check again\n",
    "\n",
    "dfs.select_dtypes(include=['object']).isnull().sum()"
   ]
  },
  {
   "cell_type": "code",
   "execution_count": 23,
   "metadata": {},
   "outputs": [
    {
     "data": {
      "text/plain": [
       "tx_price              0\n",
       "beds                  0\n",
       "baths                 0\n",
       "sqft                  0\n",
       "year_built            0\n",
       "lot_size              0\n",
       "basement              0\n",
       "restaurants           0\n",
       "groceries             0\n",
       "nightlife             0\n",
       "cafes                 0\n",
       "shopping              0\n",
       "arts_entertainment    0\n",
       "beauty_spas           0\n",
       "active_life           0\n",
       "median_age            0\n",
       "married               0\n",
       "college_grad          0\n",
       "property_tax          0\n",
       "insurance             0\n",
       "median_school         0\n",
       "num_schools           0\n",
       "tx_year               0\n",
       "dtype: int64"
      ]
     },
     "execution_count": 23,
     "metadata": {},
     "output_type": "execute_result"
    }
   ],
   "source": [
    "# Let's find and count the missing numerical feature\n",
    "\n",
    "dfs.select_dtypes(exclude=['object']).isnull().sum()"
   ]
  },
  {
   "cell_type": "markdown",
   "metadata": {},
   "source": [
    "Looks like there are no missing values in the numerical feature"
   ]
  },
  {
   "cell_type": "code",
   "execution_count": 20,
   "metadata": {},
   "outputs": [],
   "source": [
    "# lets save the new dataframe\n",
    "# df.to_csv('clean_data')"
   ]
  },
  {
   "cell_type": "markdown",
   "metadata": {},
   "source": [
    "#### <span style=\"color:#555\">EXERCISES</span>\n",
    "\n",
    "Complete each of the following exercises."
   ]
  },
  {
   "cell_type": "markdown",
   "metadata": {},
   "source": [
    "## <span style=\"color:RoyalBlue\">Exercise 2.1 - Coding Section Checkpoint</span>\n",
    "\n",
    "Before moving on, it's imperative that you've been following along the online Coding Section of this module. Those are core to each module and often contain **mission-critical code**, which means that the following modules REQUIRE you to have run that code."
   ]
  },
  {
   "cell_type": "markdown",
   "metadata": {},
   "source": [
    "#### A.) First, check that you've correctly converted 'basement' into an indicator variable. Print the unique values of 'basement'."
   ]
  },
  {
   "cell_type": "code",
   "execution_count": 24,
   "metadata": {},
   "outputs": [
    {
     "data": {
      "text/plain": [
       "array([0., 1.])"
      ]
     },
     "execution_count": 24,
     "metadata": {},
     "output_type": "execute_result"
    }
   ],
   "source": [
    "dfs['basement'].unique()"
   ]
  },
  {
   "cell_type": "markdown",
   "metadata": {},
   "source": [
    "<strong style=\"color:RoyalBlue\">Expected output:</strong>\n",
    "<pre>\n",
    "[0. 1.]\n",
    "</pre>"
   ]
  },
  {
   "cell_type": "markdown",
   "metadata": {},
   "source": [
    "#### B.) Next, confirm that you've fixed the typos and inconsistent capitalization in the 'roof' feature."
   ]
  },
  {
   "cell_type": "code",
   "execution_count": 25,
   "metadata": {},
   "outputs": [
    {
     "data": {
      "image/png": "[encoded data removed]",
      "text/plain": [
       "<Figure size 432x288 with 1 Axes>"
      ]
     },
     "metadata": {},
     "output_type": "display_data"
    }
   ],
   "source": [
    "sns.countplot(y='roof', data=dfs)\n",
    "plt.show()"
   ]
  },
  {
   "cell_type": "markdown",
   "metadata": {},
   "source": [
    "<strong style=\"color:RoyalBlue\">Expected output:</strong>\n",
    "<img src=\"data:image/png;base64,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&#10;\">"
   ]
  },
  {
   "cell_type": "markdown",
   "metadata": {},
   "source": [
    "## <span style=\"color:RoyalBlue\">Exercise 2.2 - Repairing Walls</span>\n",
    "\n",
    "In the coding section, we fixed the structural issues for the 'roof' feature. In this exercise, let's do the same for the other two categorical features, starting with **'exterior_walls'.**"
   ]
  },
  {
   "cell_type": "markdown",
   "metadata": {},
   "source": [
    "#### A.) Just as refresher, plot the current class distribution for the 'exterior_walls' feature."
   ]
  },
  {
   "cell_type": "code",
   "execution_count": 26,
   "metadata": {},
   "outputs": [
    {
     "data": {
      "image/png": "[encoded data removed]",
      "text/plain": [
       "<Figure size 432x288 with 1 Axes>"
      ]
     },
     "metadata": {},
     "output_type": "display_data"
    }
   ],
   "source": [
    "sns.countplot(y='exterior_walls', data=dfs)\n",
    "plt.show()"
   ]
  },
  {
   "cell_type": "markdown",
   "metadata": {},
   "source": [
    "<strong style=\"color:RoyalBlue\">Expected output:</strong>\n",
    "<img src=\"data:image/png;base64,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&#10;\">"
   ]
  },
  {
   "cell_type": "markdown",
   "metadata": {},
   "source": [
    "As a reminder:\n",
    "* <code style=\"color:crimson\">'Rock, Stone'</code> should be <code style=\"color:crimson\">'Masonry'</code>\n",
    "* <code style=\"color:crimson\">'Concrete'</code> and <code style=\"color:crimson\">'Block'</code> should both just be <code style=\"color:crimson\">'Concrete Block'</code>\n",
    "\n",
    "Let's fix those issues in this exercise."
   ]
  },
  {
   "cell_type": "markdown",
   "metadata": {},
   "source": [
    "#### B.) First, replace any instances of <code style=\"color:steelblue\">'Rock, Stone'</code> with <code style=\"color:steelblue\">'Masonry'</code> instead.\n",
    "* Remember to do it \"inplace.\""
   ]
  },
  {
   "cell_type": "code",
   "execution_count": 27,
   "metadata": {},
   "outputs": [],
   "source": [
    "dfs['exterior_walls'].replace('Rock, Stone', 'Masonry', inplace=True)\n"
   ]
  },
  {
   "cell_type": "markdown",
   "metadata": {},
   "source": [
    "#### C.) Next, replace any instances of <code style=\"color:steelblue\">'Concrete'</code> or <code style=\"color:steelblue\">'Block'</code> with <code style=\"color:steelblue\">'Concrete Block'</code> instead.\n",
    "* Remember to do it \"inplace.\""
   ]
  },
  {
   "cell_type": "code",
   "execution_count": 28,
   "metadata": {},
   "outputs": [],
   "source": [
    "dfs['exterior_walls'].replace(['Concrete', 'Block'], 'Concrete Block', inplace=True)\n",
    "#dfs['exterior_walls'].replace('Block', 'Concrete Block', inplace=True)"
   ]
  },
  {
   "cell_type": "markdown",
   "metadata": {},
   "source": [
    "#### D.) Great, now plot the bar plot of <code style=\"color:steelblue\">'exterior_walls'</code> to see its new distribution."
   ]
  },
  {
   "cell_type": "code",
   "execution_count": 29,
   "metadata": {},
   "outputs": [
    {
     "data": {
      "image/png": "[encoded data removed]",
      "text/plain": [
       "<Figure size 432x288 with 1 Axes>"
      ]
     },
     "metadata": {},
     "output_type": "display_data"
    }
   ],
   "source": [
    "sns.countplot(y='exterior_walls', data=dfs)\n",
    "plt.show()"
   ]
  },
  {
   "cell_type": "markdown",
   "metadata": {},
   "source": [
    "<strong style=\"color:RoyalBlue\">Expected output:</strong>\n",
    "<img src=\"data:image/png;base64,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&#10;\">"
   ]
  },
  {
   "cell_type": "markdown",
   "metadata": {},
   "source": [
    "Two down, one to go. Do you remember the name of the last categorical feature? If not, no worries. It's very simple to check, and it's very common to do these ad-hoc checks throughout your project.\n",
    "\n",
    "#### E.) List the categorical features in the dataset.\n",
    "* **Tip:** What is the 'dtype' for categorical features?"
   ]
  },
  {
   "cell_type": "code",
   "execution_count": 30,
   "metadata": {},
   "outputs": [
    {
     "name": "stdout",
     "output_type": "stream",
     "text": [
      "property_type     object\n",
      "exterior_walls    object\n",
      "roof              object\n",
      "dtype: object\n"
     ]
    }
   ],
   "source": [
    "features = dfs.dtypes\n",
    "mask = features == 'object'\n",
    "print(features[mask])"
   ]
  },
  {
   "cell_type": "markdown",
   "metadata": {},
   "source": [
    "<strong style=\"color:RoyalBlue\">Expected output:</strong>\n",
    "<pre>\n",
    "property_type     object\n",
    "exterior_walls    object\n",
    "roof              object\n",
    "dtype: object\n",
    "</pre>"
   ]
  },
  {
   "cell_type": "markdown",
   "metadata": {},
   "source": [
    "#### F.) Finally, display the class distributions for the 'property_type' feature.\n",
    "* Does it appear to have any obvious structural errors?"
   ]
  },
  {
   "cell_type": "code",
   "execution_count": 31,
   "metadata": {},
   "outputs": [
    {
     "data": {
      "image/png": "[encoded data removed]",
      "text/plain": [
       "<Figure size 432x288 with 1 Axes>"
      ]
     },
     "metadata": {},
     "output_type": "display_data"
    }
   ],
   "source": [
    "\n",
    "sns.countplot(y='property_type', data=dfs)\n",
    "plt.show()"
   ]
  },
  {
   "cell_type": "markdown",
   "metadata": {},
   "source": [
    "<strong style=\"color:RoyalBlue\">Expected output:</strong>\n",
    "<img src=\"data:image/png;base64,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&#10;\">"
   ]
  },
  {
   "cell_type": "markdown",
   "metadata": {},
   "source": [
    "## <span style=\"color:RoyalBlue\">Exercise 2.3 - The Music of Outliers</span>\n",
    "\n",
    "#### A.) Plot the violin plots for <code style=\"color:steelblue\">'beds'</code>, <code style=\"color:steelblue\">'sqft'</code>, and <code style=\"color:steelblue\">'lot_size'</code>.\n",
    "* **Tip:** If you want to plot multiple charts in the same code cell, remember to separate them by <code style=\"color:steelblue\">plt.show()</code>, or else they will overlap.\n",
    "* Among those features, do any look like they have potential outliers?"
   ]
  },
  {
   "cell_type": "code",
   "execution_count": 32,
   "metadata": {},
   "outputs": [
    {
     "name": "stderr",
     "output_type": "stream",
     "text": [
      "/Users/tunde/opt/anaconda3/lib/python3.9/site-packages/seaborn/_decorators.py:36: FutureWarning: Pass the following variable as a keyword arg: x. From version 0.12, the only valid positional argument will be `data`, and passing other arguments without an explicit keyword will result in an error or misinterpretation.\n",
      "  warnings.warn(\n"
     ]
    },
    {
     "data": {
      "image/png": "[encoded data removed]",
      "text/plain": [
       "<Figure size 432x288 with 1 Axes>"
      ]
     },
     "metadata": {},
     "output_type": "display_data"
    },
    {
     "name": "stderr",
     "output_type": "stream",
     "text": [
      "/Users/tunde/opt/anaconda3/lib/python3.9/site-packages/seaborn/_decorators.py:36: FutureWarning: Pass the following variable as a keyword arg: x. From version 0.12, the only valid positional argument will be `data`, and passing other arguments without an explicit keyword will result in an error or misinterpretation.\n",
      "  warnings.warn(\n"
     ]
    },
    {
     "data": {
      "image/png": "[encoded data removed]",
      "text/plain": [
       "<Figure size 432x288 with 1 Axes>"
      ]
     },
     "metadata": {},
     "output_type": "display_data"
    },
    {
     "name": "stderr",
     "output_type": "stream",
     "text": [
      "/Users/tunde/opt/anaconda3/lib/python3.9/site-packages/seaborn/_decorators.py:36: FutureWarning: Pass the following variable as a keyword arg: x. From version 0.12, the only valid positional argument will be `data`, and passing other arguments without an explicit keyword will result in an error or misinterpretation.\n",
      "  warnings.warn(\n"
     ]
    },
    {
     "data": {
      "image/png": "[encoded data removed]",
      "text/plain": [
       "<Figure size 432x288 with 1 Axes>"
      ]
     },
     "metadata": {},
     "output_type": "display_data"
    }
   ],
   "source": [
    "# Violin plot of beds\n",
    "sns.violinplot('beds', data=dfs)\n",
    "# plt.xlim(0, 1000000)\n",
    "plt.show()\n",
    "\n",
    "\n",
    "# Violin plot of sqft\n",
    "sns.violinplot('sqft', data=dfs)\n",
    "# plt.xlim(0, 1000000)\n",
    "plt.show()\n",
    "\n",
    "# Violin plot of lot_size\n",
    "\n",
    "sns.violinplot('lot_size', data=dfs)\n",
    "# plt.xlim(0, 1000000)\n",
    "plt.show()"
   ]
  },
  {
   "cell_type": "markdown",
   "metadata": {},
   "source": [
    "Yes there is a potential outlier in plot 3"
   ]
  },
  {
   "cell_type": "markdown",
   "metadata": {},
   "source": [
    "Among those three features, it looks like <code style=\"color:steelblue\">lot_size</code> has a potential outlier! Look at its long and skinny tail. Let's look at the largest 5 lot sizes just to confirm.\n",
    "\n",
    "#### B.) Sort <code style=\"color:steelblue\">df.lot_size</code> and display the top 5 samples.\n",
    "* You can sort a Series with the <code style=\"color:steelblue\">.sort_values()</code> function.\n",
    "* **Tip:** <code style=\"color:steelblue\">.sort_values()</code> has an argument called <code style=\"color:steelblue\">ascending=</code>. By default, it's <code style=\"color:steelblue\">True</code>\n",
    "* **Tip:** You can chain functions together. This exercise can be completed in 1 line of code."
   ]
  },
  {
   "cell_type": "code",
   "execution_count": 33,
   "metadata": {},
   "outputs": [
    {
     "data": {
      "text/plain": [
       "102     1220551\n",
       "1111     436471\n",
       "1832     436035\n",
       "1876     436035\n",
       "1839     435600\n",
       "Name: lot_size, dtype: int64"
      ]
     },
     "execution_count": 33,
     "metadata": {},
     "output_type": "execute_result"
    }
   ],
   "source": [
    "dfs.lot_size.sort_values(ascending=False).head()"
   ]
  },
  {
   "cell_type": "markdown",
   "metadata": {},
   "source": [
    "<strong style=\"color:RoyalBlue\">Expected output:</strong>\n",
    "<pre>\n",
    "102     1220551\n",
    "1111     436471\n",
    "1876     436035\n",
    "1832     436035\n",
    "1115     435600\n",
    "Name: lot_size, dtype: int64\n",
    "</pre>"
   ]
  },
  {
   "cell_type": "markdown",
   "metadata": {},
   "source": [
    "The largest property has a lot_size of 1,220,551 sqft. The next largest has a lot_size of only 436,471 sqft. Holy smokes! Let's look at this observation a bit closer.\n",
    "\n",
    "#### C.) Display the entire row for that observation with the huge lot size.\n",
    "* How many bedrooms and bathrooms does the property have?\n",
    "* What's its property type?\n",
    "* What's its transaction price?\n",
    "* **Do you think this observation could be a \"guilty\" outlier? Why?**"
   ]
  },
  {
   "cell_type": "code",
   "execution_count": 36,
   "metadata": {},
   "outputs": [
    {
     "data": {
      "text/html": [
       "<div>\n",
       "<style scoped>\n",
       "    .dataframe tbody tr th:only-of-type {\n",
       "        vertical-align: middle;\n",
       "    }\n",
       "\n",
       "    .dataframe tbody tr th {\n",
       "        vertical-align: top;\n",
       "    }\n",
       "\n",
       "    .dataframe thead th {\n",
       "        text-align: right;\n",
       "    }\n",
       "</style>\n",
       "<table border=\"1\" class=\"dataframe\">\n",
       "  <thead>\n",
       "    <tr style=\"text-align: right;\">\n",
       "      <th></th>\n",
       "      <th>tx_price</th>\n",
       "      <th>beds</th>\n",
       "      <th>baths</th>\n",
       "      <th>sqft</th>\n",
       "      <th>year_built</th>\n",
       "      <th>lot_size</th>\n",
       "      <th>property_type</th>\n",
       "      <th>exterior_walls</th>\n",
       "      <th>roof</th>\n",
       "      <th>basement</th>\n",
       "      <th>restaurants</th>\n",
       "      <th>groceries</th>\n",
       "      <th>nightlife</th>\n",
       "      <th>cafes</th>\n",
       "      <th>shopping</th>\n",
       "      <th>arts_entertainment</th>\n",
       "      <th>beauty_spas</th>\n",
       "      <th>active_life</th>\n",
       "      <th>median_age</th>\n",
       "      <th>married</th>\n",
       "      <th>college_grad</th>\n",
       "      <th>property_tax</th>\n",
       "      <th>insurance</th>\n",
       "      <th>median_school</th>\n",
       "      <th>num_schools</th>\n",
       "      <th>tx_year</th>\n",
       "    </tr>\n",
       "  </thead>\n",
       "  <tbody>\n",
       "    <tr>\n",
       "      <th>102</th>\n",
       "      <td>292999</td>\n",
       "      <td>2</td>\n",
       "      <td>1</td>\n",
       "      <td>875</td>\n",
       "      <td>1950</td>\n",
       "      <td>1220551</td>\n",
       "      <td>Apartment / Condo / Townhouse</td>\n",
       "      <td>Brick</td>\n",
       "      <td>NaN</td>\n",
       "      <td>0.0</td>\n",
       "      <td>63</td>\n",
       "      <td>11</td>\n",
       "      <td>11</td>\n",
       "      <td>8</td>\n",
       "      <td>39</td>\n",
       "      <td>18</td>\n",
       "      <td>42</td>\n",
       "      <td>44</td>\n",
       "      <td>33.0</td>\n",
       "      <td>35.0</td>\n",
       "      <td>87.0</td>\n",
       "      <td>230.0</td>\n",
       "      <td>79.0</td>\n",
       "      <td>6.0</td>\n",
       "      <td>3.0</td>\n",
       "      <td>2014</td>\n",
       "    </tr>\n",
       "  </tbody>\n",
       "</table>\n",
       "</div>"
      ],
      "text/plain": [
       "     tx_price  beds  baths  sqft  year_built  lot_size  \\\n",
       "102    292999     2      1   875        1950   1220551   \n",
       "\n",
       "                     property_type exterior_walls roof  basement  restaurants  \\\n",
       "102  Apartment / Condo / Townhouse          Brick  NaN       0.0           63   \n",
       "\n",
       "     groceries  nightlife  cafes  shopping  arts_entertainment  beauty_spas  \\\n",
       "102         11         11      8        39                  18           42   \n",
       "\n",
       "     active_life  median_age  married  college_grad  property_tax  insurance  \\\n",
       "102           44        33.0     35.0          87.0         230.0       79.0   \n",
       "\n",
       "     median_school  num_schools  tx_year  \n",
       "102            6.0          3.0     2014  "
      ]
     },
     "execution_count": 36,
     "metadata": {},
     "output_type": "execute_result"
    }
   ],
   "source": [
    "#df.iloc[[102]]\n",
    "\n",
    "# dfs[102:103]\n",
    "dfs[dfs.lot_size == dfs.lot_size.max()]"
   ]
  },
  {
   "cell_type": "markdown",
   "metadata": {},
   "source": [
    "<strong style=\"color:RoyalBlue\">Expected output:</strong>"
   ]
  },
  {
   "cell_type": "markdown",
   "metadata": {},
   "source": [
    "<table border=\"1\" class=\"dataframe\">\n",
    "  <thead>\n",
    "    <tr style=\"text-align: right;\">\n",
    "      <th></th>\n",
    "      <th>tx_price</th>\n",
    "      <th>beds</th>\n",
    "      <th>baths</th>\n",
    "      <th>sqft</th>\n",
    "      <th>year_built</th>\n",
    "      <th>lot_size</th>\n",
    "      <th>property_type</th>\n",
    "      <th>exterior_walls</th>\n",
    "      <th>roof</th>\n",
    "      <th>basement</th>\n",
    "      <th>restaurants</th>\n",
    "      <th>groceries</th>\n",
    "      <th>nightlife</th>\n",
    "      <th>cafes</th>\n",
    "      <th>shopping</th>\n",
    "      <th>arts_entertainment</th>\n",
    "      <th>beauty_spas</th>\n",
    "      <th>active_life</th>\n",
    "      <th>median_age</th>\n",
    "      <th>married</th>\n",
    "      <th>college_grad</th>\n",
    "      <th>property_tax</th>\n",
    "      <th>insurance</th>\n",
    "      <th>median_school</th>\n",
    "      <th>num_schools</th>\n",
    "      <th>tx_year</th>\n",
    "    </tr>\n",
    "  </thead>\n",
    "  <tbody>\n",
    "    <tr>\n",
    "      <th>102</th>\n",
    "      <td>292999</td>\n",
    "      <td>2</td>\n",
    "      <td>1</td>\n",
    "      <td>875</td>\n",
    "      <td>1950</td>\n",
    "      <td>1220551</td>\n",
    "      <td>Apartment / Condo / Townhouse</td>\n",
    "      <td>Brick</td>\n",
    "      <td>NaN</td>\n",
    "      <td>0.0</td>\n",
    "      <td>63</td>\n",
    "      <td>11</td>\n",
    "      <td>11</td>\n",
    "      <td>8</td>\n",
    "      <td>39</td>\n",
    "      <td>18</td>\n",
    "      <td>42</td>\n",
    "      <td>44</td>\n",
    "      <td>33.0</td>\n",
    "      <td>35.0</td>\n",
    "      <td>87.0</td>\n",
    "      <td>230.0</td>\n",
    "      <td>79.0</td>\n",
    "      <td>6.0</td>\n",
    "      <td>3.0</td>\n",
    "      <td>2014</td>\n",
    "    </tr>\n",
    "  </tbody>\n",
    "</table>"
   ]
  },
  {
   "cell_type": "markdown",
   "metadata": {},
   "source": [
    "#### D.) Since all of the other observations are below 500,000 sqft, let's remove observations with <code style=\"color:steelblue\">lot_size</code> greater than 500,000 sqft.\n",
    "* You can use a boolean mask to do so (filter to keep only wanted observations).\n",
    "* Overwrite the existing <code style=\"color:steelblue\">df</code> object\n",
    "* Print the length of the new <code style=\"color:steelblue\">df</code> object."
   ]
  },
  {
   "cell_type": "code",
   "execution_count": 38,
   "metadata": {},
   "outputs": [
    {
     "name": "stdout",
     "output_type": "stream",
     "text": [
      "1882\n"
     ]
    }
   ],
   "source": [
    "#feat = df['lot_size']\n",
    "#masq = feat <= 500000\n",
    "#feat[masq]\n",
    "#df['lot_size'] = feat[masq]\n",
    "#print(len(df['lot_size']))\n",
    "#print(len(feat[masq]))\n",
    "#df[102:103]\n",
    "#df\n",
    "\n",
    "dfs = dfs[dfs.lot_size <= 500000]\n",
    "print(len(dfs))"
   ]
  },
  {
   "cell_type": "markdown",
   "metadata": {},
   "source": [
    "<strong style=\"color:RoyalBlue\">Expected output:</strong>\n",
    "<pre>\n",
    "1882\n",
    "</pre>"
   ]
  },
  {
   "cell_type": "markdown",
   "metadata": {},
   "source": [
    "## <span style=\"color:RoyalBlue\">Exercise 2.4 - Missing But Not Lost</span>\n",
    "\n",
    "In the Coding Section, we already labeled missing values in the 'exterior_walls' feature as 'Missing'. Now, we'll write a loop for labeling missing values in ALL of our categorical features so that we can dynamically handle as many categorical features as necessary.\n",
    "\n",
    "#### A.) Write a loop that fills all the missing values for categorical features with the value <code style=\"color:steelblue\">'Missing'</code>.\n",
    "* **Tip:** There's a shortcut for looping through categorical column names:\n",
    "\n",
    "<pre style=\"color:#bbb\">\n",
    "for column in <strong style=\"color:steelblue\">df.select_dtypes(include=['object'])</strong>:\n",
    "    # code block\n",
    "</pre>"
   ]
  },
  {
   "cell_type": "code",
   "execution_count": 39,
   "metadata": {},
   "outputs": [],
   "source": [
    "for column in dfs.select_dtypes(include=['object']):\n",
    "    if dfs[column].empty or dfs[column].isnull:\n",
    "        dfs[column] = 'Missing'"
   ]
  },
  {
   "cell_type": "markdown",
   "metadata": {},
   "source": [
    "#### B.) Now, display the number of missing values for each categorical feature."
   ]
  },
  {
   "cell_type": "code",
   "execution_count": 40,
   "metadata": {},
   "outputs": [
    {
     "data": {
      "text/plain": [
       "property_type     0\n",
       "exterior_walls    0\n",
       "roof              0\n",
       "dtype: int64"
      ]
     },
     "execution_count": 40,
     "metadata": {},
     "output_type": "execute_result"
    }
   ],
   "source": [
    "dfs.select_dtypes(include=['object']).isnull().sum()"
   ]
  },
  {
   "cell_type": "markdown",
   "metadata": {},
   "source": [
    "<strong style=\"color:RoyalBlue\">Expected output:</strong>\n",
    "<pre>\n",
    "property_type     0\n",
    "exterior_walls    0\n",
    "roof              0\n",
    "dtype: int64\n",
    "</pre>"
   ]
  },
  {
   "cell_type": "markdown",
   "metadata": {},
   "source": [
    "#### C.) Just for practice, find and count missing values in your numerical features."
   ]
  },
  {
   "cell_type": "code",
   "execution_count": 41,
   "metadata": {},
   "outputs": [
    {
     "data": {
      "text/plain": [
       "tx_price              0\n",
       "beds                  0\n",
       "baths                 0\n",
       "sqft                  0\n",
       "year_built            0\n",
       "lot_size              0\n",
       "basement              0\n",
       "restaurants           0\n",
       "groceries             0\n",
       "nightlife             0\n",
       "cafes                 0\n",
       "shopping              0\n",
       "arts_entertainment    0\n",
       "beauty_spas           0\n",
       "active_life           0\n",
       "median_age            0\n",
       "married               0\n",
       "college_grad          0\n",
       "property_tax          0\n",
       "insurance             0\n",
       "median_school         0\n",
       "num_schools           0\n",
       "tx_year               0\n",
       "dtype: int64"
      ]
     },
     "execution_count": 41,
     "metadata": {},
     "output_type": "execute_result"
    }
   ],
   "source": [
    "dfs.select_dtypes(exclude=['object']).isnull().sum()"
   ]
  },
  {
   "cell_type": "markdown",
   "metadata": {},
   "source": [
    "<strong style=\"color:RoyalBlue\">Expected output:</strong>\n",
    "<pre>\n",
    "tx_price              0\n",
    "beds                  0\n",
    "baths                 0\n",
    "sqft                  0\n",
    "year_built            0\n",
    "lot_size              0\n",
    "basement              0\n",
    "restaurants           0\n",
    "groceries             0\n",
    "nightlife             0\n",
    "cafes                 0\n",
    "shopping              0\n",
    "arts_entertainment    0\n",
    "beauty_spas           0\n",
    "active_life           0\n",
    "median_age            0\n",
    "married               0\n",
    "college_grad          0\n",
    "property_tax          0\n",
    "insurance             0\n",
    "median_school         0\n",
    "num_schools           0\n",
    "tx_year               0\n",
    "dtype: int64\n",
    "</pre>"
   ]
  },
  {
   "cell_type": "markdown",
   "metadata": {},
   "source": [
    "#### D.) Save your cleaned dataframe as <code style=\"color:steelblue\">'cleaned_df.csv'</code>.\n",
    "\n",
    "Before we move on to the next module, let's save the new dataframe we worked hard to clean.\n",
    "* We'll use Pandas's <code style=\"color:steelblue\">.to_csv()</code> function.\n",
    "* Set <code style=\"color:steelblue\">index=<span style=\"color:crimson\">None</span></code> so that Pandas drops the indices and only stores the actual data in the CSV."
   ]
  },
  {
   "cell_type": "code",
   "execution_count": 42,
   "metadata": {},
   "outputs": [],
   "source": [
    "dfs.to_csv('cleaned_df.csv', index=None)"
   ]
  },
  {
   "cell_type": "markdown",
   "metadata": {},
   "source": [
    "* Now we can use <code style=\"color:steelblue\">'cleaned_df.csv'</code> in all the other modules!"
   ]
  },
  {
   "cell_type": "markdown",
   "metadata": {},
   "source": [
    "Congratulations for making it through the Data Cleaning module! Data cleaning is not the most exciting thing in the world, but it can literally make or break your project. As a reminder, here are a few things you did in this module:\n",
    "* You confirmed that the dataset doesn't have any duplicate and irrelevant observations.\n",
    "* You fixed various structural errors, such as mislabeled classes.\n",
    "* You removed an outlier after plotting violin plots.\n",
    "* And you labeled missing data in your categorical features.\n",
    "\n",
    "All of this cleaning will be extremely helpful for the remaining modules. In the next module, Feature Engineering, you'll use your cleaned dataset to create new features that will improve model performance."
   ]
  }
 ],
 "metadata": {
  "anaconda-cloud": {},
  "kernelspec": {
   "display_name": "Python 3 (ipykernel)",
   "language": "python",
   "name": "python3"
  },
  "language_info": {
   "codemirror_mode": {
    "name": "ipython",
    "version": 3
   },
   "file_extension": ".py",
   "mimetype": "text/x-python",
   "name": "python",
   "nbconvert_exporter": "python",
   "pygments_lexer": "ipython3",
   "version": "3.9.7"
  }
 },
 "nbformat": 4,
 "nbformat_minor": 1
}
